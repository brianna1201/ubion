{
 "cells": [
  {
   "cell_type": "markdown",
   "id": "e58cb467",
   "metadata": {},
   "source": [
    "# Black-Scholes-Merton"
   ]
  },
  {
   "cell_type": "code",
   "execution_count": 1,
   "id": "8bd1a2d5",
   "metadata": {},
   "outputs": [],
   "source": [
    "# opstrat : 옵션 값은 opstrat 의 black_scholes() 함수를 사용하여 계산\n",
    "# Opstrat 옵션을 다루는 파이썬 패키지, 최근에 나옴!\n",
    "# 모델에 필요한 모든 입력 은 인수로 전달되어야 함.\n",
    "# 위의 입력 외에도 옵션의 유형은 유형 매개변수를 사용하여 지정해야 함(콜 경우 'c ' , 풋 경우 'p')"
   ]
  },
  {
   "cell_type": "code",
   "execution_count": 2,
   "id": "421cd6ec",
   "metadata": {},
   "outputs": [
    {
     "name": "stdout",
     "output_type": "stream",
     "text": [
      "Collecting opstrat\n",
      "  Downloading opstrat-0.1.7-py3-none-any.whl (11 kB)\n",
      "Requirement already satisfied: seaborn in c:\\users\\user\\lib\\site-packages (from opstrat) (0.11.2)\n",
      "Requirement already satisfied: pandas in c:\\users\\user\\lib\\site-packages (from opstrat) (1.4.2)\n",
      "Requirement already satisfied: matplotlib in c:\\users\\user\\lib\\site-packages (from opstrat) (3.5.2)\n",
      "Requirement already satisfied: numpy in c:\\users\\user\\lib\\site-packages (from opstrat) (1.22.3)\n",
      "Requirement already satisfied: yfinance in c:\\users\\user\\appdata\\roaming\\python\\python310\\site-packages (from opstrat) (0.1.70)\n",
      "Requirement already satisfied: pillow>=6.2.0 in c:\\users\\user\\lib\\site-packages (from matplotlib->opstrat) (9.1.0)\n",
      "Requirement already satisfied: cycler>=0.10 in c:\\users\\user\\lib\\site-packages (from matplotlib->opstrat) (0.11.0)\n",
      "Requirement already satisfied: fonttools>=4.22.0 in c:\\users\\user\\lib\\site-packages (from matplotlib->opstrat) (4.33.3)\n",
      "Requirement already satisfied: packaging>=20.0 in c:\\users\\user\\lib\\site-packages (from matplotlib->opstrat) (21.3)\n",
      "Requirement already satisfied: pyparsing>=2.2.1 in c:\\users\\user\\lib\\site-packages (from matplotlib->opstrat) (3.0.8)\n",
      "Requirement already satisfied: python-dateutil>=2.7 in c:\\users\\user\\lib\\site-packages (from matplotlib->opstrat) (2.8.2)\n",
      "Requirement already satisfied: kiwisolver>=1.0.1 in c:\\users\\user\\lib\\site-packages (from matplotlib->opstrat) (1.4.2)\n",
      "Requirement already satisfied: pytz>=2020.1 in c:\\users\\user\\lib\\site-packages (from pandas->opstrat) (2022.1)\n",
      "Requirement already satisfied: scipy>=1.0 in c:\\users\\user\\lib\\site-packages (from seaborn->opstrat) (1.8.0)\n",
      "Requirement already satisfied: multitasking>=0.0.7 in c:\\users\\user\\appdata\\roaming\\python\\python310\\site-packages (from yfinance->opstrat) (0.0.10)\n",
      "Requirement already satisfied: lxml>=4.5.1 in c:\\users\\user\\lib\\site-packages (from yfinance->opstrat) (4.8.0)\n",
      "Requirement already satisfied: requests>=2.26 in c:\\users\\user\\lib\\site-packages (from yfinance->opstrat) (2.27.1)\n",
      "Requirement already satisfied: six>=1.5 in c:\\users\\user\\lib\\site-packages (from python-dateutil>=2.7->matplotlib->opstrat) (1.16.0)\n",
      "Requirement already satisfied: certifi>=2017.4.17 in c:\\users\\user\\lib\\site-packages (from requests>=2.26->yfinance->opstrat) (2021.10.8)\n",
      "Requirement already satisfied: urllib3<1.27,>=1.21.1 in c:\\users\\user\\lib\\site-packages (from requests>=2.26->yfinance->opstrat) (1.26.9)\n",
      "Requirement already satisfied: idna<4,>=2.5 in c:\\users\\user\\lib\\site-packages (from requests>=2.26->yfinance->opstrat) (3.3)\n",
      "Requirement already satisfied: charset-normalizer~=2.0.0 in c:\\users\\user\\lib\\site-packages (from requests>=2.26->yfinance->opstrat) (2.0.12)\n",
      "Installing collected packages: opstrat\n",
      "Successfully installed opstrat-0.1.7\n",
      "Note: you may need to restart the kernel to use updated packages.\n"
     ]
    },
    {
     "name": "stderr",
     "output_type": "stream",
     "text": [
      "WARNING: You are using pip version 22.0.4; however, version 22.1.1 is available.\n",
      "You should consider upgrading via the 'C:\\Users\\user\\python.exe -m pip install --upgrade pip' command.\n"
     ]
    }
   ],
   "source": [
    "pip install opstrat"
   ]
  },
  {
   "cell_type": "code",
   "execution_count": 53,
   "id": "425d8018",
   "metadata": {},
   "outputs": [],
   "source": [
    "# 라이브러리 호출\n",
    "# 필요 값 입력\n",
    "import opstrat as op\n",
    "#Declare parameters\n",
    "K=200    #spot price\n",
    "St=200   #current stock price\n",
    "r=4      #4% risk free rate\n",
    "t=30     #time to expiry, 30 days \n",
    "v=20     #volatility \n",
    "type='c' #Option type call\n",
    "\n",
    "#Black Scholes Model\n",
    "bsm=op.black_scholes(K=K, St=St, r=r, t=t, \n",
    "                     v=v, type='c')"
   ]
  },
  {
   "cell_type": "code",
   "execution_count": 54,
   "id": "e02ff9ac",
   "metadata": {},
   "outputs": [
    {
     "data": {
      "text/plain": [
       "{'option value': 4.902524418368486,\n",
       " 'intrinsic value': 0,\n",
       " 'time value': 4.902524418368486}"
      ]
     },
     "execution_count": 54,
     "metadata": {},
     "output_type": "execute_result"
    }
   ],
   "source": [
    "# 옵션가격(프리미엄)\n",
    "# 프리미엄 = 내재가치 + 시간가치\n",
    "bsm['value']"
   ]
  },
  {
   "cell_type": "code",
   "execution_count": 55,
   "id": "f265e208",
   "metadata": {},
   "outputs": [
    {
     "data": {
      "text/plain": [
       "{'delta': 0.5342697035912677,\n",
       " 'gamma': 0.03466008190858278,\n",
       " 'theta': -0.08714006076400446,\n",
       " 'vega': 0.22790190843999636,\n",
       " 'rho': 0.08379568463004249}"
      ]
     },
     "execution_count": 55,
     "metadata": {},
     "output_type": "execute_result"
    }
   ],
   "source": [
    "# 옵션 민감도\n",
    "bsm['greeks']"
   ]
  },
  {
   "cell_type": "code",
   "execution_count": 60,
   "id": "c04995f2",
   "metadata": {},
   "outputs": [
    {
     "data": {
      "text/plain": [
       "{'option value': 16.514882929694323,\n",
       " 'intrinsic value': 15,\n",
       " 'time value': 1.5148829296943234}"
      ]
     },
     "execution_count": 60,
     "metadata": {},
     "output_type": "execute_result"
    }
   ],
   "source": [
    "# 라이브러리 호출\n",
    "# 필요 값 입력\n",
    "# 기초자산 가격 208--> 215 상승 한 경우, 잔존기간 20로 단축\n",
    "import opstrat as op\n",
    "#Declare parameters\n",
    "K=200    #spot price\n",
    "St=215   #current stock price\n",
    "r=4      #4% risk free rate\n",
    "t=20     #time to expiry, 30 days \n",
    "v=30     #volatility \n",
    "type='c' #Option type call\n",
    "\n",
    "#Black Scholes Model\n",
    "bsm1=op.black_scholes(K=K, St=St, r=r, t=t, \n",
    "                     v=v, type='c')\n",
    "# 옵션가격(프리미엄)\n",
    "# 프리미엄 = 내재가치 + 시간가치\n",
    "bsm1['value']"
   ]
  },
  {
   "cell_type": "code",
   "execution_count": 57,
   "id": "e1b2a71e",
   "metadata": {},
   "outputs": [
    {
     "data": {
      "text/plain": [
       "{'delta': 0.863497804793175,\n",
       " 'gamma': 0.014489724448893506,\n",
       " 'theta': -0.10111212020078943,\n",
       " 'vega': 0.11010205687398943,\n",
       " 'rho': 0.09267788772648673}"
      ]
     },
     "execution_count": 57,
     "metadata": {},
     "output_type": "execute_result"
    }
   ],
   "source": [
    "# 옵션 민감도\n",
    "bsm1['greeks']"
   ]
  },
  {
   "cell_type": "code",
   "execution_count": 8,
   "id": "6d9a8c64",
   "metadata": {},
   "outputs": [
    {
     "data": {
      "text/plain": [
       "{'option value': 3.9540084362511294,\n",
       " 'intrinsic value': 0,\n",
       " 'time value': 3.9540084362511294}"
      ]
     },
     "execution_count": 8,
     "metadata": {},
     "output_type": "execute_result"
    }
   ],
   "source": [
    "# 라이브러리 호출\n",
    "# 필요 값 입력\n",
    "# 기초자산 가격 208--> 215 상승 한 경우, 잔존기간 20로 단축\n",
    "import opstrat as op\n",
    "#Declare parameters\n",
    "K=200    #spot price\n",
    "St=200   #current stock price\n",
    "r=4      #4% risk free rate\n",
    "t=20     #time to expiry, 30 days \n",
    "v=20     #volatility \n",
    "type='c' #Option type call\n",
    "\n",
    "#Black Scholes Model\n",
    "bsm1=op.black_scholes(K=K, St=St, r=r, t=t, \n",
    "                     v=v, type='c')\n",
    "# 옵션가격(프리미엄)\n",
    "# 프리미엄 = 내재가치 + 시간가치\n",
    "bsm1['value']"
   ]
  },
  {
   "cell_type": "code",
   "execution_count": 9,
   "id": "087edd57",
   "metadata": {},
   "outputs": [
    {
     "data": {
      "text/plain": [
       "{'delta': 0.5279925878029271,\n",
       " 'gamma': 0.042502125151847675,\n",
       " 'theta': -0.10429446708616853,\n",
       " 'vega': 0.1863106855971405,\n",
       " 'rho': 0.055695621437991394}"
      ]
     },
     "execution_count": 9,
     "metadata": {},
     "output_type": "execute_result"
    }
   ],
   "source": [
    "# 옵션 민감도\n",
    "bsm1['greeks']"
   ]
  },
  {
   "cell_type": "code",
   "execution_count": 11,
   "id": "71928d04",
   "metadata": {},
   "outputs": [],
   "source": [
    "import math as m # math 모듈 임포트"
   ]
  },
  {
   "cell_type": "code",
   "execution_count": 13,
   "id": "99bf64c4",
   "metadata": {},
   "outputs": [
    {
     "name": "stdout",
     "output_type": "stream",
     "text": [
      "연속복리무위험이자율 = 0.03922071315328133\n",
      "연속복리를 적용한 1년뒤 종가 = 1.04\n"
     ]
    }
   ],
   "source": [
    "S = 208 #  k200\n",
    "K = 200\n",
    "T = 3/365 # 잔존기간: 3일\n",
    "V = 0.2 # 변동성 \n",
    "Rf = m.log(1.04) # 무위험 이자율 4%\n",
    "print('연속복리무위험이자율 =', Rf)\n",
    "print('연속복리를 적용한 1년뒤 종가 =', m.exp(Rf))"
   ]
  },
  {
   "cell_type": "code",
   "execution_count": 14,
   "id": "28194254",
   "metadata": {},
   "outputs": [
    {
     "name": "stdout",
     "output_type": "stream",
     "text": [
      "d1 = 2.1899182482350326 , d2 = 2.1717863116785674\n"
     ]
    }
   ],
   "source": [
    "numerator = m.log(S/K) + (Rf + 1/2 * V**2) * T\n",
    "denominator = V * m.sqrt(T)\n",
    "d1 = numerator / denominator\n",
    "d2 = d1 - V * m.sqrt(T)\n",
    "print('d1 =', d1, ',', 'd2 =', d2)"
   ]
  },
  {
   "cell_type": "code",
   "execution_count": 15,
   "id": "ff610242",
   "metadata": {},
   "outputs": [
    {
     "name": "stdout",
     "output_type": "stream",
     "text": [
      "d1 = 2.1899182482350326 , d2 = 2.1717863116785674\n"
     ]
    }
   ],
   "source": [
    "numerator = m.log(S/K) + (Rf + 1/2 * V**2) * T\n",
    "denominator = V * m.sqrt(T)\n",
    "d1 = numerator / denominator\n",
    "d2 = d1 - V * m.sqrt(T)\n",
    "print('d1 =', d1, ',', 'd2 =', d2)"
   ]
  },
  {
   "cell_type": "code",
   "execution_count": 16,
   "id": "0025c2ac",
   "metadata": {},
   "outputs": [],
   "source": [
    "import scipy as sp # scipy 모듈 임포트\n",
    "import scipy.stats # scipy에서 통계 모듈 임포트\n",
    "normdis = sp.stats.norm() # 변수에 표준정규분포를 입력해줌  "
   ]
  },
  {
   "cell_type": "code",
   "execution_count": 17,
   "id": "f0ef839a",
   "metadata": {},
   "outputs": [
    {
     "name": "stdout",
     "output_type": "stream",
     "text": [
      "N(d1) = 0.9857349168521605 , N(d2) = 2.1717863116785674\n"
     ]
    }
   ],
   "source": [
    "N_d1 = normdis.cdf(d1) # N(d1) 산출\n",
    "N_d2 = normdis.cdf(d2) # N(d2) 산출\n",
    "print('N(d1) =', N_d1, ',', 'N(d2) =', d2)"
   ]
  },
  {
   "cell_type": "code",
   "execution_count": 18,
   "id": "7fc4ad7d",
   "metadata": {},
   "outputs": [
    {
     "name": "stdout",
     "output_type": "stream",
     "text": [
      "Call Option Price = 8.08354038547185\n"
     ]
    }
   ],
   "source": [
    "#콜옵션 계산\n",
    "#C = S*N(d1) - K*e^(-Rf*T)*N(d1)\n",
    "C = S * N_d1 - K * m.exp(-Rf * T) * N_d2\n",
    "print('Call Option Price =', C)  "
   ]
  },
  {
   "cell_type": "code",
   "execution_count": 19,
   "id": "be922d42",
   "metadata": {},
   "outputs": [],
   "source": [
    "# 옵션 가격 계산 : 또 다른 방법 "
   ]
  },
  {
   "cell_type": "markdown",
   "id": "a6a4a783",
   "metadata": {},
   "source": [
    "# 이항모형(CRR 모형) 옵션가격"
   ]
  },
  {
   "cell_type": "code",
   "execution_count": 20,
   "id": "6d0b4635",
   "metadata": {},
   "outputs": [],
   "source": [
    "# https://pythoncpa.tistory.com/2?category=806912  내용 참고"
   ]
  },
  {
   "cell_type": "code",
   "execution_count": 21,
   "id": "a1567df4",
   "metadata": {},
   "outputs": [],
   "source": [
    "import math as m"
   ]
  },
  {
   "cell_type": "code",
   "execution_count": 22,
   "id": "a83b6971",
   "metadata": {},
   "outputs": [],
   "source": [
    "S0 = 100\n",
    "V = 0.3\n",
    "T = 5   # 이항분포 전체기간\n",
    "dt = 1  # 이항분포가 1회발생하는 단위기간, 연간 변동성 기준으로 월 1회 발생하는 경우 1/12= 0.833\n",
    "Rf = 0.05\n",
    "K = 100"
   ]
  },
  {
   "cell_type": "code",
   "execution_count": 24,
   "id": "1290dcdd",
   "metadata": {},
   "outputs": [
    {
     "name": "stdout",
     "output_type": "stream",
     "text": [
      "u = 1.3498588075760032\n",
      "d = 0.7408182206817179\n",
      "P = 0.5097408651817704\n"
     ]
    }
   ],
   "source": [
    "u = m.exp(V * m.sqrt(dt))\n",
    "d = 1 / u\n",
    "P = (m.exp(Rf * dt) - d) / (u - d)\n",
    "print('u =', u)\n",
    "print('d =', d)\n",
    "print('P =', P)"
   ]
  },
  {
   "cell_type": "code",
   "execution_count": 25,
   "id": "6c243793",
   "metadata": {},
   "outputs": [
    {
     "data": {
      "text/html": [
       "<div>\n",
       "<style scoped>\n",
       "    .dataframe tbody tr th:only-of-type {\n",
       "        vertical-align: middle;\n",
       "    }\n",
       "\n",
       "    .dataframe tbody tr th {\n",
       "        vertical-align: top;\n",
       "    }\n",
       "\n",
       "    .dataframe thead th {\n",
       "        text-align: right;\n",
       "    }\n",
       "</style>\n",
       "<table border=\"1\" class=\"dataframe\">\n",
       "  <thead>\n",
       "    <tr style=\"text-align: right;\">\n",
       "      <th></th>\n",
       "      <th>0</th>\n",
       "      <th>1</th>\n",
       "      <th>2</th>\n",
       "      <th>3</th>\n",
       "      <th>4</th>\n",
       "      <th>5</th>\n",
       "    </tr>\n",
       "  </thead>\n",
       "  <tbody>\n",
       "    <tr>\n",
       "      <th>0</th>\n",
       "      <td>0.0</td>\n",
       "      <td>0.0</td>\n",
       "      <td>0.0</td>\n",
       "      <td>0.0</td>\n",
       "      <td>0.0</td>\n",
       "      <td>0.0</td>\n",
       "    </tr>\n",
       "    <tr>\n",
       "      <th>1</th>\n",
       "      <td>0.0</td>\n",
       "      <td>0.0</td>\n",
       "      <td>0.0</td>\n",
       "      <td>0.0</td>\n",
       "      <td>0.0</td>\n",
       "      <td>0.0</td>\n",
       "    </tr>\n",
       "    <tr>\n",
       "      <th>2</th>\n",
       "      <td>0.0</td>\n",
       "      <td>0.0</td>\n",
       "      <td>0.0</td>\n",
       "      <td>0.0</td>\n",
       "      <td>0.0</td>\n",
       "      <td>0.0</td>\n",
       "    </tr>\n",
       "    <tr>\n",
       "      <th>3</th>\n",
       "      <td>0.0</td>\n",
       "      <td>0.0</td>\n",
       "      <td>0.0</td>\n",
       "      <td>0.0</td>\n",
       "      <td>0.0</td>\n",
       "      <td>0.0</td>\n",
       "    </tr>\n",
       "    <tr>\n",
       "      <th>4</th>\n",
       "      <td>0.0</td>\n",
       "      <td>0.0</td>\n",
       "      <td>0.0</td>\n",
       "      <td>0.0</td>\n",
       "      <td>0.0</td>\n",
       "      <td>0.0</td>\n",
       "    </tr>\n",
       "    <tr>\n",
       "      <th>5</th>\n",
       "      <td>0.0</td>\n",
       "      <td>0.0</td>\n",
       "      <td>0.0</td>\n",
       "      <td>0.0</td>\n",
       "      <td>0.0</td>\n",
       "      <td>0.0</td>\n",
       "    </tr>\n",
       "  </tbody>\n",
       "</table>\n",
       "</div>"
      ],
      "text/plain": [
       "     0    1    2    3    4    5\n",
       "0  0.0  0.0  0.0  0.0  0.0  0.0\n",
       "1  0.0  0.0  0.0  0.0  0.0  0.0\n",
       "2  0.0  0.0  0.0  0.0  0.0  0.0\n",
       "3  0.0  0.0  0.0  0.0  0.0  0.0\n",
       "4  0.0  0.0  0.0  0.0  0.0  0.0\n",
       "5  0.0  0.0  0.0  0.0  0.0  0.0"
      ]
     },
     "execution_count": 25,
     "metadata": {},
     "output_type": "execute_result"
    }
   ],
   "source": [
    "import numpy as np\n",
    "import pandas as pd\n",
    "S_tree = pd.DataFrame(np.zeros((T + 1) * (T + 1)).reshape(T + 1, T + 1))\n",
    "S_tree"
   ]
  },
  {
   "cell_type": "code",
   "execution_count": 26,
   "id": "0a1a411e",
   "metadata": {},
   "outputs": [
    {
     "data": {
      "text/html": [
       "<div>\n",
       "<style scoped>\n",
       "    .dataframe tbody tr th:only-of-type {\n",
       "        vertical-align: middle;\n",
       "    }\n",
       "\n",
       "    .dataframe tbody tr th {\n",
       "        vertical-align: top;\n",
       "    }\n",
       "\n",
       "    .dataframe thead th {\n",
       "        text-align: right;\n",
       "    }\n",
       "</style>\n",
       "<table border=\"1\" class=\"dataframe\">\n",
       "  <thead>\n",
       "    <tr style=\"text-align: right;\">\n",
       "      <th></th>\n",
       "      <th>0</th>\n",
       "      <th>1</th>\n",
       "      <th>2</th>\n",
       "      <th>3</th>\n",
       "      <th>4</th>\n",
       "      <th>5</th>\n",
       "    </tr>\n",
       "  </thead>\n",
       "  <tbody>\n",
       "    <tr>\n",
       "      <th>0</th>\n",
       "      <td>100.0</td>\n",
       "      <td>134.985881</td>\n",
       "      <td>182.211880</td>\n",
       "      <td>245.960311</td>\n",
       "      <td>332.011692</td>\n",
       "      <td>448.168907</td>\n",
       "    </tr>\n",
       "    <tr>\n",
       "      <th>1</th>\n",
       "      <td>0.0</td>\n",
       "      <td>74.081822</td>\n",
       "      <td>100.000000</td>\n",
       "      <td>134.985881</td>\n",
       "      <td>182.211880</td>\n",
       "      <td>245.960311</td>\n",
       "    </tr>\n",
       "    <tr>\n",
       "      <th>2</th>\n",
       "      <td>0.0</td>\n",
       "      <td>0.000000</td>\n",
       "      <td>54.881164</td>\n",
       "      <td>74.081822</td>\n",
       "      <td>100.000000</td>\n",
       "      <td>134.985881</td>\n",
       "    </tr>\n",
       "    <tr>\n",
       "      <th>3</th>\n",
       "      <td>0.0</td>\n",
       "      <td>0.000000</td>\n",
       "      <td>0.000000</td>\n",
       "      <td>40.656966</td>\n",
       "      <td>54.881164</td>\n",
       "      <td>74.081822</td>\n",
       "    </tr>\n",
       "    <tr>\n",
       "      <th>4</th>\n",
       "      <td>0.0</td>\n",
       "      <td>0.000000</td>\n",
       "      <td>0.000000</td>\n",
       "      <td>0.000000</td>\n",
       "      <td>30.119421</td>\n",
       "      <td>40.656966</td>\n",
       "    </tr>\n",
       "    <tr>\n",
       "      <th>5</th>\n",
       "      <td>0.0</td>\n",
       "      <td>0.000000</td>\n",
       "      <td>0.000000</td>\n",
       "      <td>0.000000</td>\n",
       "      <td>0.000000</td>\n",
       "      <td>22.313016</td>\n",
       "    </tr>\n",
       "  </tbody>\n",
       "</table>\n",
       "</div>"
      ],
      "text/plain": [
       "       0           1           2           3           4           5\n",
       "0  100.0  134.985881  182.211880  245.960311  332.011692  448.168907\n",
       "1    0.0   74.081822  100.000000  134.985881  182.211880  245.960311\n",
       "2    0.0    0.000000   54.881164   74.081822  100.000000  134.985881\n",
       "3    0.0    0.000000    0.000000   40.656966   54.881164   74.081822\n",
       "4    0.0    0.000000    0.000000    0.000000   30.119421   40.656966\n",
       "5    0.0    0.000000    0.000000    0.000000    0.000000   22.313016"
      ]
     },
     "execution_count": 26,
     "metadata": {},
     "output_type": "execute_result"
    }
   ],
   "source": [
    "for node in range(T + 1):\n",
    "  for time in range(T + 1):\n",
    "    if time >= node:\n",
    "      S_tree.loc[node, time] = S0 * m.pow(u, (time - node)) * m.pow(d, node)\n",
    "S_tree"
   ]
  },
  {
   "cell_type": "code",
   "execution_count": 27,
   "id": "d0126bf3",
   "metadata": {},
   "outputs": [
    {
     "data": {
      "text/html": [
       "<div>\n",
       "<style scoped>\n",
       "    .dataframe tbody tr th:only-of-type {\n",
       "        vertical-align: middle;\n",
       "    }\n",
       "\n",
       "    .dataframe tbody tr th {\n",
       "        vertical-align: top;\n",
       "    }\n",
       "\n",
       "    .dataframe thead th {\n",
       "        text-align: right;\n",
       "    }\n",
       "</style>\n",
       "<table border=\"1\" class=\"dataframe\">\n",
       "  <thead>\n",
       "    <tr style=\"text-align: right;\">\n",
       "      <th></th>\n",
       "      <th>0</th>\n",
       "      <th>1</th>\n",
       "      <th>2</th>\n",
       "      <th>3</th>\n",
       "      <th>4</th>\n",
       "      <th>5</th>\n",
       "    </tr>\n",
       "  </thead>\n",
       "  <tbody>\n",
       "    <tr>\n",
       "      <th>0</th>\n",
       "      <td>0.0</td>\n",
       "      <td>34.985881</td>\n",
       "      <td>82.21188</td>\n",
       "      <td>145.960311</td>\n",
       "      <td>2.320117e+02</td>\n",
       "      <td>348.168907</td>\n",
       "    </tr>\n",
       "    <tr>\n",
       "      <th>1</th>\n",
       "      <td>0.0</td>\n",
       "      <td>0.000000</td>\n",
       "      <td>0.00000</td>\n",
       "      <td>34.985881</td>\n",
       "      <td>8.221188e+01</td>\n",
       "      <td>145.960311</td>\n",
       "    </tr>\n",
       "    <tr>\n",
       "      <th>2</th>\n",
       "      <td>0.0</td>\n",
       "      <td>0.000000</td>\n",
       "      <td>0.00000</td>\n",
       "      <td>0.000000</td>\n",
       "      <td>2.842171e-14</td>\n",
       "      <td>34.985881</td>\n",
       "    </tr>\n",
       "    <tr>\n",
       "      <th>3</th>\n",
       "      <td>0.0</td>\n",
       "      <td>0.000000</td>\n",
       "      <td>0.00000</td>\n",
       "      <td>0.000000</td>\n",
       "      <td>0.000000e+00</td>\n",
       "      <td>0.000000</td>\n",
       "    </tr>\n",
       "    <tr>\n",
       "      <th>4</th>\n",
       "      <td>0.0</td>\n",
       "      <td>0.000000</td>\n",
       "      <td>0.00000</td>\n",
       "      <td>0.000000</td>\n",
       "      <td>0.000000e+00</td>\n",
       "      <td>0.000000</td>\n",
       "    </tr>\n",
       "    <tr>\n",
       "      <th>5</th>\n",
       "      <td>0.0</td>\n",
       "      <td>0.000000</td>\n",
       "      <td>0.00000</td>\n",
       "      <td>0.000000</td>\n",
       "      <td>0.000000e+00</td>\n",
       "      <td>0.000000</td>\n",
       "    </tr>\n",
       "  </tbody>\n",
       "</table>\n",
       "</div>"
      ],
      "text/plain": [
       "     0          1         2           3             4           5\n",
       "0  0.0  34.985881  82.21188  145.960311  2.320117e+02  348.168907\n",
       "1  0.0   0.000000   0.00000   34.985881  8.221188e+01  145.960311\n",
       "2  0.0   0.000000   0.00000    0.000000  2.842171e-14   34.985881\n",
       "3  0.0   0.000000   0.00000    0.000000  0.000000e+00    0.000000\n",
       "4  0.0   0.000000   0.00000    0.000000  0.000000e+00    0.000000\n",
       "5  0.0   0.000000   0.00000    0.000000  0.000000e+00    0.000000"
      ]
     },
     "execution_count": 27,
     "metadata": {},
     "output_type": "execute_result"
    }
   ],
   "source": [
    "C_K_tree = pd.DataFrame(np.zeros((T + 1) * (T + 1)).reshape(T + 1, T + 1))\n",
    "for node in range(T + 1):\n",
    "  for time in range(T + 1):\n",
    "    if time >= node:\n",
    "      C_K_tree.loc[node, time] = max(S_tree.loc[node, time] - K, 0)\n",
    "C_K_tree"
   ]
  },
  {
   "cell_type": "code",
   "execution_count": 28,
   "id": "70696954",
   "metadata": {},
   "outputs": [
    {
     "data": {
      "text/html": [
       "<div>\n",
       "<style scoped>\n",
       "    .dataframe tbody tr th:only-of-type {\n",
       "        vertical-align: middle;\n",
       "    }\n",
       "\n",
       "    .dataframe tbody tr th {\n",
       "        vertical-align: top;\n",
       "    }\n",
       "\n",
       "    .dataframe thead th {\n",
       "        text-align: right;\n",
       "    }\n",
       "</style>\n",
       "<table border=\"1\" class=\"dataframe\">\n",
       "  <thead>\n",
       "    <tr style=\"text-align: right;\">\n",
       "      <th></th>\n",
       "      <th>0</th>\n",
       "      <th>1</th>\n",
       "      <th>2</th>\n",
       "      <th>3</th>\n",
       "      <th>4</th>\n",
       "      <th>5</th>\n",
       "    </tr>\n",
       "  </thead>\n",
       "  <tbody>\n",
       "    <tr>\n",
       "      <th>0</th>\n",
       "      <td>0.0</td>\n",
       "      <td>0.0</td>\n",
       "      <td>0.0</td>\n",
       "      <td>0.0</td>\n",
       "      <td>0.0</td>\n",
       "      <td>348.168907</td>\n",
       "    </tr>\n",
       "    <tr>\n",
       "      <th>1</th>\n",
       "      <td>0.0</td>\n",
       "      <td>0.0</td>\n",
       "      <td>0.0</td>\n",
       "      <td>0.0</td>\n",
       "      <td>0.0</td>\n",
       "      <td>145.960311</td>\n",
       "    </tr>\n",
       "    <tr>\n",
       "      <th>2</th>\n",
       "      <td>0.0</td>\n",
       "      <td>0.0</td>\n",
       "      <td>0.0</td>\n",
       "      <td>0.0</td>\n",
       "      <td>0.0</td>\n",
       "      <td>34.985881</td>\n",
       "    </tr>\n",
       "    <tr>\n",
       "      <th>3</th>\n",
       "      <td>0.0</td>\n",
       "      <td>0.0</td>\n",
       "      <td>0.0</td>\n",
       "      <td>0.0</td>\n",
       "      <td>0.0</td>\n",
       "      <td>0.000000</td>\n",
       "    </tr>\n",
       "    <tr>\n",
       "      <th>4</th>\n",
       "      <td>0.0</td>\n",
       "      <td>0.0</td>\n",
       "      <td>0.0</td>\n",
       "      <td>0.0</td>\n",
       "      <td>0.0</td>\n",
       "      <td>0.000000</td>\n",
       "    </tr>\n",
       "    <tr>\n",
       "      <th>5</th>\n",
       "      <td>0.0</td>\n",
       "      <td>0.0</td>\n",
       "      <td>0.0</td>\n",
       "      <td>0.0</td>\n",
       "      <td>0.0</td>\n",
       "      <td>0.000000</td>\n",
       "    </tr>\n",
       "  </tbody>\n",
       "</table>\n",
       "</div>"
      ],
      "text/plain": [
       "     0    1    2    3    4           5\n",
       "0  0.0  0.0  0.0  0.0  0.0  348.168907\n",
       "1  0.0  0.0  0.0  0.0  0.0  145.960311\n",
       "2  0.0  0.0  0.0  0.0  0.0   34.985881\n",
       "3  0.0  0.0  0.0  0.0  0.0    0.000000\n",
       "4  0.0  0.0  0.0  0.0  0.0    0.000000\n",
       "5  0.0  0.0  0.0  0.0  0.0    0.000000"
      ]
     },
     "execution_count": 28,
     "metadata": {},
     "output_type": "execute_result"
    }
   ],
   "source": [
    "C_tree = pd.DataFrame(np.zeros((T + 1) * (T + 1)).reshape(T + 1, T + 1))\n",
    "C_tree[T] = C_K_tree[T]\n",
    "C_tree"
   ]
  },
  {
   "cell_type": "code",
   "execution_count": 29,
   "id": "2d3313fa",
   "metadata": {},
   "outputs": [
    {
     "data": {
      "text/html": [
       "<div>\n",
       "<style scoped>\n",
       "    .dataframe tbody tr th:only-of-type {\n",
       "        vertical-align: middle;\n",
       "    }\n",
       "\n",
       "    .dataframe tbody tr th {\n",
       "        vertical-align: top;\n",
       "    }\n",
       "\n",
       "    .dataframe thead th {\n",
       "        text-align: right;\n",
       "    }\n",
       "</style>\n",
       "<table border=\"1\" class=\"dataframe\">\n",
       "  <thead>\n",
       "    <tr style=\"text-align: right;\">\n",
       "      <th></th>\n",
       "      <th>0</th>\n",
       "      <th>1</th>\n",
       "      <th>2</th>\n",
       "      <th>3</th>\n",
       "      <th>4</th>\n",
       "      <th>5</th>\n",
       "    </tr>\n",
       "  </thead>\n",
       "  <tbody>\n",
       "    <tr>\n",
       "      <th>0</th>\n",
       "      <td>37.042002</td>\n",
       "      <td>61.314001</td>\n",
       "      <td>99.128897</td>\n",
       "      <td>155.853227</td>\n",
       "      <td>237.175520</td>\n",
       "      <td>348.168907</td>\n",
       "    </tr>\n",
       "    <tr>\n",
       "      <th>1</th>\n",
       "      <td>0.000000</td>\n",
       "      <td>15.583290</td>\n",
       "      <td>28.249654</td>\n",
       "      <td>50.260325</td>\n",
       "      <td>87.194365</td>\n",
       "      <td>145.960311</td>\n",
       "    </tr>\n",
       "    <tr>\n",
       "      <th>2</th>\n",
       "      <td>0.000000</td>\n",
       "      <td>0.000000</td>\n",
       "      <td>4.002886</td>\n",
       "      <td>8.245426</td>\n",
       "      <td>16.984508</td>\n",
       "      <td>34.985881</td>\n",
       "    </tr>\n",
       "    <tr>\n",
       "      <th>3</th>\n",
       "      <td>0.000000</td>\n",
       "      <td>0.000000</td>\n",
       "      <td>0.000000</td>\n",
       "      <td>0.000000</td>\n",
       "      <td>0.000000</td>\n",
       "      <td>0.000000</td>\n",
       "    </tr>\n",
       "    <tr>\n",
       "      <th>4</th>\n",
       "      <td>0.000000</td>\n",
       "      <td>0.000000</td>\n",
       "      <td>0.000000</td>\n",
       "      <td>0.000000</td>\n",
       "      <td>0.000000</td>\n",
       "      <td>0.000000</td>\n",
       "    </tr>\n",
       "    <tr>\n",
       "      <th>5</th>\n",
       "      <td>0.000000</td>\n",
       "      <td>0.000000</td>\n",
       "      <td>0.000000</td>\n",
       "      <td>0.000000</td>\n",
       "      <td>0.000000</td>\n",
       "      <td>0.000000</td>\n",
       "    </tr>\n",
       "  </tbody>\n",
       "</table>\n",
       "</div>"
      ],
      "text/plain": [
       "           0          1          2           3           4           5\n",
       "0  37.042002  61.314001  99.128897  155.853227  237.175520  348.168907\n",
       "1   0.000000  15.583290  28.249654   50.260325   87.194365  145.960311\n",
       "2   0.000000   0.000000   4.002886    8.245426   16.984508   34.985881\n",
       "3   0.000000   0.000000   0.000000    0.000000    0.000000    0.000000\n",
       "4   0.000000   0.000000   0.000000    0.000000    0.000000    0.000000\n",
       "5   0.000000   0.000000   0.000000    0.000000    0.000000    0.000000"
      ]
     },
     "execution_count": 29,
     "metadata": {},
     "output_type": "execute_result"
    }
   ],
   "source": [
    "for node in range(T - 1, -1, -1):\n",
    "  for time in range(T - 1, -1, -1):\n",
    "    if time >= node:\n",
    "      C_tree.loc[node, time] = max(\n",
    "          P * C_tree.loc[node, time + 1] / (1 + Rf) + (1 - P) * C_tree.loc[node + 1, time + 1] / (1 + Rf),\n",
    "          C_K_tree.loc[node, time]\n",
    "      )\n",
    "C_tree"
   ]
  },
  {
   "cell_type": "markdown",
   "id": "1a456b84",
   "metadata": {},
   "source": [
    "# 퀀트립 (QuantLib) 활용"
   ]
  },
  {
   "cell_type": "code",
   "execution_count": 30,
   "id": "642deca2",
   "metadata": {},
   "outputs": [],
   "source": [
    "# https://quantlibjl.readthedocs.io/en/latest/pricing_engines.html 참조\n",
    "\n",
    "# https://m.blog.naver.com/PostView.naver?isHttpsRedirect=true&blogId=stochastic73&logNo=221746106616  참조"
   ]
  },
  {
   "cell_type": "code",
   "execution_count": 31,
   "id": "20e50544",
   "metadata": {},
   "outputs": [
    {
     "name": "stdout",
     "output_type": "stream",
     "text": [
      "Collecting QuantLib-Python\n",
      "  Downloading QuantLib_Python-1.18-py2.py3-none-any.whl (1.4 kB)\n",
      "Collecting QuantLib\n",
      "  Downloading QuantLib-1.26-cp310-cp310-win_amd64.whl (12.2 MB)\n",
      "     --------------------------------------- 12.2/12.2 MB 28.5 MB/s eta 0:00:00\n",
      "Installing collected packages: QuantLib, QuantLib-Python\n",
      "Successfully installed QuantLib-1.26 QuantLib-Python-1.18\n",
      "Note: you may need to restart the kernel to use updated packages.\n"
     ]
    },
    {
     "name": "stderr",
     "output_type": "stream",
     "text": [
      "WARNING: You are using pip version 22.0.4; however, version 22.1.1 is available.\n",
      "You should consider upgrading via the 'C:\\Users\\user\\python.exe -m pip install --upgrade pip' command.\n"
     ]
    }
   ],
   "source": [
    "pip install QuantLib-Python"
   ]
  },
  {
   "cell_type": "code",
   "execution_count": 32,
   "id": "121fdd1c",
   "metadata": {},
   "outputs": [],
   "source": [
    "import QuantLib as ql\n",
    "# 평가일 지정 날짜 할당\n",
    "# 여기서 날짜 할당은 보통의 datatime 라이브러리의 data() 객체가 아니라 퀀트립 고유의 날짜 객체임을 주의 할 것!!\n",
    "valuation_date = ql.Date(1, 6, 2021)\n",
    "\n",
    "# 평가일 기준일을 위서 설정한 날짜로 할당\n",
    "ql.Settings.instance().evaluationDate = valuation_date\n",
    "\n",
    "# 날짜 계산을 위한 영업일 수 계산으로 한국(SouthKorea) 달력 사용\n",
    "calendar = ql.SouthKorea()\n",
    "dayCount = ql.ActualActual() # 일자 계산시 방법 :Act/Act, 국가별로 상품별로 시장 관행일을 자동 처리 해줌."
   ]
  },
  {
   "cell_type": "code",
   "execution_count": 33,
   "id": "ecaa346d",
   "metadata": {},
   "outputs": [],
   "source": [
    "# SimpleQuote : 이론가격을 필요한 기초자료를 담는 역활\n",
    "# 기초자산 가격, 배당률, 무위험이자율(ex. 기준금리), 변동성 지수 업데이트\n",
    "underlying_qt = ql.SimpleQuote(270)\n",
    "dividend_qt = ql.SimpleQuote(0.0)\n",
    "riskfreerate_qt = ql.SimpleQuote(0.0125)\n",
    "volatility_qt = ql.SimpleQuote(0.13)"
   ]
  },
  {
   "cell_type": "code",
   "execution_count": 34,
   "id": "9b932d71",
   "metadata": {},
   "outputs": [],
   "source": [
    "# 업데이트한 SimpleQuote를 다시 QuoteHandle로 설정하는 부분\n",
    "# QuoteHandle : SimpleQuote 객체들을 QuoteHandle 재설정하는 이유 : \n",
    "# 이유 : 이 작업을 토대로 simple 값이 변화하더라도 handle을 통해 바로 값 변형이 반영됨\n",
    "# 결국 Handle은 어떤 값(value) 을 저장하는 게 아니라 여기서 메모리 address 값을 저장하는 pointer 역할을 수행하게 된다.\n",
    "\n",
    "q_qhandle = ql.QuoteHandle(underlying_qt)\n",
    "d_qhandle = ql.QuoteHandle(dividend_qt)\n",
    "r_qhandle = ql.QuoteHandle(riskfreerate_qt)\n",
    "v_qhandle = ql.QuoteHandle(volatility_qt)"
   ]
  },
  {
   "cell_type": "code",
   "execution_count": 35,
   "id": "6ea8eb2f",
   "metadata": {},
   "outputs": [],
   "source": [
    "# 기간구조 설정 과정\n",
    "# 기초자산 가격을 제외한 나머지 변수는 기간 구조로 변경해야 함.\n",
    "# FlatForward : 이자율과 배당률에 대하여, BlackConstantVol : 변동성에 대하여  객체 사용\n",
    "r_timestructure = ql.FlatForward(valuation_date, r_qhandle, dayCount)\n",
    "d_timestructure = ql.FlatForward(valuation_date, d_qhandle, dayCount)\n",
    "v_timestructure = ql.BlackConstantVol(valuation_date, calendar, v_qhandle, dayCount)"
   ]
  },
  {
   "cell_type": "code",
   "execution_count": 36,
   "id": "69247999",
   "metadata": {},
   "outputs": [],
   "source": [
    "# handle을 통해 address를 넘겨주 듯, 마찬가지로 기간구조도 handle로 넘겨주는 작업 과정\n",
    "r_thandle = ql.YieldTermStructureHandle(r_timestructure)\n",
    "d_thandle = ql.YieldTermStructureHandle(d_timestructure)\n",
    "v_thandle = ql.BlackVolTermStructureHandle(v_timestructure)"
   ]
  },
  {
   "cell_type": "code",
   "execution_count": 37,
   "id": "4b1882f8",
   "metadata": {},
   "outputs": [],
   "source": [
    "# 가격 산정 확률과정 프로세스 설정 \n",
    "# 블렉숄츠 모형에서 가정하는 확률과정에 의한 feature 입력\n",
    "\n",
    "process = ql.BlackScholesMertonProcess(q_qhandle, d_thandle, r_thandle, v_thandle)\n",
    "engine = ql.AnalyticEuropeanEngine(process)"
   ]
  },
  {
   "cell_type": "code",
   "execution_count": 38,
   "id": "c303c454",
   "metadata": {},
   "outputs": [],
   "source": [
    "# 2020년 12월 12일 만기고 call 행사가격은 272인 유럽형 콜옵션 상정\n",
    "# 다양 한 성격의 옵션 가격을 고려 : EuropeanExercise ,  PlainVanillaPayoff , VanillaOption\n",
    "option_type = ql.Option.Call\n",
    "strike_price = 272\n",
    "expiry_date = ql.Date(1,12,2021)\n",
    "exercise = ql.EuropeanExercise(expiry_date)\n",
    "payoff = ql.PlainVanillaPayoff(type= option_type, strike = strike_price)\n",
    "option = ql.VanillaOption(payoff=payoff, exercise=exercise)"
   ]
  },
  {
   "cell_type": "code",
   "execution_count": 39,
   "id": "dc8135ec",
   "metadata": {},
   "outputs": [],
   "source": [
    "# 옵션 가격 설정을 하기 위한 PricingEngine\n",
    "# https://quantlibjl.readthedocs.io/en/latest/pricing_engines.html#  내용 참조\n",
    "\n",
    "option.setPricingEngine(engine)"
   ]
  },
  {
   "cell_type": "code",
   "execution_count": 40,
   "id": "3d7563a4",
   "metadata": {},
   "outputs": [
    {
     "name": "stdout",
     "output_type": "stream",
     "text": [
      "옵션프리미엄 = 9.76748896\n",
      "옵션 델타 = 0.51353501\n",
      "옵션 감마 = 0.01604256\n",
      "옵션 세타 = -0.03148873\n",
      "옵션 베가 = 0.76225959\n",
      "옵션 로 = 0.64620039\n"
     ]
    }
   ],
   "source": [
    "# 데이터 출력\n",
    "result_value = [option.NPV(), option.delta(), option.gamma(), option.thetaPerDay(), option.vega()/100, option.rho()/100]\n",
    "result_type = ['옵션프리미엄', '옵션 델타', '옵션 감마', '옵션 세타', '옵션 베가', '옵션 로']\n",
    "for i,j in zip(result_type, result_value):\n",
    "    print(f'{i} = {round(j, 8)}')"
   ]
  },
  {
   "cell_type": "code",
   "execution_count": 41,
   "id": "5db4ee65",
   "metadata": {},
   "outputs": [
    {
     "name": "stdout",
     "output_type": "stream",
     "text": [
      "옵션프리미엄 = 12.5334\n",
      "옵션 델타 = 0.5922\n",
      "옵션 감마 = 0.0153\n",
      "옵션 세타 = -0.032\n",
      "옵션 베가 = 0.756\n",
      "옵션 로 = 0.7537\n"
     ]
    }
   ],
   "source": [
    "# 기초자산의 가격이 변동하는 경우\n",
    "# 데이터 출력\n",
    "\n",
    "underlying_qt.setValue(275)\n",
    "result_value = [option.NPV(), option.delta(), option.gamma(), option.thetaPerDay(), option.vega()/100, option.rho()/100]\n",
    "result_type = ['옵션프리미엄', '옵션 델타', '옵션 감마', '옵션 세타', '옵션 베가', '옵션 로']\n",
    "for i,j in zip(result_type, result_value):\n",
    "    print(f'{i} = {round(j, 4)}')"
   ]
  },
  {
   "cell_type": "code",
   "execution_count": 43,
   "id": "cb563fca",
   "metadata": {},
   "outputs": [
    {
     "name": "stdout",
     "output_type": "stream",
     "text": [
      "옵션프리미엄 = 8.2097\n",
      "옵션 델타 = 0.6419\n",
      "옵션 감마 = 0.0266\n",
      "옵션 세타 = -0.0201\n",
      "옵션 베가 = 0.7272\n",
      "옵션 로 = 0.8438\n"
     ]
    }
   ],
   "source": [
    "# 내재변동성implied_volatility\n",
    "market_price = 8.21\n",
    "implied_volatility = option.impliedVolatility(market_price, process)\n",
    "volatility_qt.setValue(implied_volatility)\n",
    "\n",
    "result_value = [option.NPV(), option.delta(), option.gamma(), option.thetaPerDay(), option.vega()/100, option.rho()/100]\n",
    "result_type = ['옵션프리미엄', '옵션 델타', '옵션 감마', '옵션 세타', '옵션 베가', '옵션 로']\n",
    "\n",
    "for i,j in zip(result_type, result_value):\n",
    "    print(f'{i} = {round(j, 4)}')"
   ]
  },
  {
   "cell_type": "code",
   "execution_count": 44,
   "id": "e0e24ef7",
   "metadata": {},
   "outputs": [],
   "source": [
    "# plotly  활용 옵션시각화\n",
    "#  추후 작업 업로드\n",
    "# https://m.blog.naver.com/PostView.naver?isHttpsRedirect=true&blogId=stochastic73&logNo=221553746353  참고"
   ]
  },
  {
   "cell_type": "code",
   "execution_count": null,
   "id": "f38d5dc8",
   "metadata": {},
   "outputs": [],
   "source": []
  }
 ],
 "metadata": {
  "kernelspec": {
   "display_name": "Python 3 (ipykernel)",
   "language": "python",
   "name": "python3"
  },
  "language_info": {
   "codemirror_mode": {
    "name": "ipython",
    "version": 3
   },
   "file_extension": ".py",
   "mimetype": "text/x-python",
   "name": "python",
   "nbconvert_exporter": "python",
   "pygments_lexer": "ipython3",
   "version": "3.10.4"
  }
 },
 "nbformat": 4,
 "nbformat_minor": 5
}

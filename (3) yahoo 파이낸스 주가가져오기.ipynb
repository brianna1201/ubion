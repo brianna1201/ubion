{
 "cells": [
  {
   "cell_type": "markdown",
   "id": "f9f63d4b",
   "metadata": {},
   "source": [
    "# 야후파이낸스 주가데이터 가져오기"
   ]
  },
  {
   "cell_type": "code",
   "execution_count": 14,
   "id": "8fa8ad25",
   "metadata": {
    "scrolled": true
   },
   "outputs": [
    {
     "name": "stdout",
     "output_type": "stream",
     "text": [
      "Requirement already satisfied: yfinance in c:\\users\\user\\appdata\\roaming\\python\\python310\\site-packages (0.1.70)\n",
      "Requirement already satisfied: lxml>=4.5.1 in c:\\users\\user\\lib\\site-packages (from yfinance) (4.8.0)\n",
      "Requirement already satisfied: requests>=2.26 in c:\\users\\user\\lib\\site-packages (from yfinance) (2.27.1)\n",
      "Requirement already satisfied: multitasking>=0.0.7 in c:\\users\\user\\appdata\\roaming\\python\\python310\\site-packages (from yfinance) (0.0.10)\n",
      "Requirement already satisfied: pandas>=0.24.0 in c:\\users\\user\\lib\\site-packages (from yfinance) (1.4.2)\n",
      "Requirement already satisfied: numpy>=1.15 in c:\\users\\user\\lib\\site-packages (from yfinance) (1.22.3)\n",
      "Requirement already satisfied: python-dateutil>=2.8.1 in c:\\users\\user\\lib\\site-packages (from pandas>=0.24.0->yfinance) (2.8.2)\n",
      "Requirement already satisfied: pytz>=2020.1 in c:\\users\\user\\lib\\site-packages (from pandas>=0.24.0->yfinance) (2022.1)\n",
      "Requirement already satisfied: certifi>=2017.4.17 in c:\\users\\user\\lib\\site-packages (from requests>=2.26->yfinance) (2021.10.8)\n",
      "Requirement already satisfied: urllib3<1.27,>=1.21.1 in c:\\users\\user\\lib\\site-packages (from requests>=2.26->yfinance) (1.26.9)\n",
      "Requirement already satisfied: charset-normalizer~=2.0.0 in c:\\users\\user\\lib\\site-packages (from requests>=2.26->yfinance) (2.0.12)\n",
      "Requirement already satisfied: idna<4,>=2.5 in c:\\users\\user\\lib\\site-packages (from requests>=2.26->yfinance) (3.3)\n",
      "Requirement already satisfied: six>=1.5 in c:\\users\\user\\lib\\site-packages (from python-dateutil>=2.8.1->pandas>=0.24.0->yfinance) (1.16.0)\n"
     ]
    }
   ],
   "source": [
    "# yfinance --user  설치하기\n",
    "!pip install yfinance --user"
   ]
  },
  {
   "cell_type": "code",
   "execution_count": 1,
   "id": "6221ac07",
   "metadata": {},
   "outputs": [
    {
     "data": {
      "text/plain": [
       "'0.1.70'"
      ]
     },
     "execution_count": 1,
     "metadata": {},
     "output_type": "execute_result"
    }
   ],
   "source": [
    "import yfinance as yf\n",
    "yf.__version__ # 왜 import가 안될까"
   ]
  },
  {
   "cell_type": "code",
   "execution_count": 2,
   "id": "a3c396e3",
   "metadata": {},
   "outputs": [
    {
     "name": "stdout",
     "output_type": "stream",
     "text": [
      "[*********************100%***********************]  1 of 1 completed\n"
     ]
    },
    {
     "data": {
      "text/html": [
       "<div>\n",
       "<style scoped>\n",
       "    .dataframe tbody tr th:only-of-type {\n",
       "        vertical-align: middle;\n",
       "    }\n",
       "\n",
       "    .dataframe tbody tr th {\n",
       "        vertical-align: top;\n",
       "    }\n",
       "\n",
       "    .dataframe thead th {\n",
       "        text-align: right;\n",
       "    }\n",
       "</style>\n",
       "<table border=\"1\" class=\"dataframe\">\n",
       "  <thead>\n",
       "    <tr style=\"text-align: right;\">\n",
       "      <th></th>\n",
       "      <th>Open</th>\n",
       "      <th>High</th>\n",
       "      <th>Low</th>\n",
       "      <th>Close</th>\n",
       "      <th>Adj Close</th>\n",
       "      <th>Volume</th>\n",
       "    </tr>\n",
       "    <tr>\n",
       "      <th>Date</th>\n",
       "      <th></th>\n",
       "      <th></th>\n",
       "      <th></th>\n",
       "      <th></th>\n",
       "      <th></th>\n",
       "      <th></th>\n",
       "    </tr>\n",
       "  </thead>\n",
       "  <tbody>\n",
       "    <tr>\n",
       "      <th>2018-11-30</th>\n",
       "      <td>45.072498</td>\n",
       "      <td>45.082500</td>\n",
       "      <td>44.257500</td>\n",
       "      <td>44.645000</td>\n",
       "      <td>43.221710</td>\n",
       "      <td>158126000</td>\n",
       "    </tr>\n",
       "    <tr>\n",
       "      <th>2018-12-03</th>\n",
       "      <td>46.115002</td>\n",
       "      <td>46.235001</td>\n",
       "      <td>45.302502</td>\n",
       "      <td>46.205002</td>\n",
       "      <td>44.731972</td>\n",
       "      <td>163210000</td>\n",
       "    </tr>\n",
       "    <tr>\n",
       "      <th>2018-12-04</th>\n",
       "      <td>45.237499</td>\n",
       "      <td>45.597500</td>\n",
       "      <td>44.067501</td>\n",
       "      <td>44.172501</td>\n",
       "      <td>42.764271</td>\n",
       "      <td>165377200</td>\n",
       "    </tr>\n",
       "    <tr>\n",
       "      <th>2018-12-06</th>\n",
       "      <td>42.939999</td>\n",
       "      <td>43.695000</td>\n",
       "      <td>42.605000</td>\n",
       "      <td>43.680000</td>\n",
       "      <td>42.287464</td>\n",
       "      <td>172393600</td>\n",
       "    </tr>\n",
       "    <tr>\n",
       "      <th>2018-12-07</th>\n",
       "      <td>43.372501</td>\n",
       "      <td>43.622501</td>\n",
       "      <td>42.075001</td>\n",
       "      <td>42.122501</td>\n",
       "      <td>40.779625</td>\n",
       "      <td>169126400</td>\n",
       "    </tr>\n",
       "    <tr>\n",
       "      <th>...</th>\n",
       "      <td>...</td>\n",
       "      <td>...</td>\n",
       "      <td>...</td>\n",
       "      <td>...</td>\n",
       "      <td>...</td>\n",
       "      <td>...</td>\n",
       "    </tr>\n",
       "    <tr>\n",
       "      <th>2022-05-04</th>\n",
       "      <td>159.669998</td>\n",
       "      <td>166.479996</td>\n",
       "      <td>159.259995</td>\n",
       "      <td>166.020004</td>\n",
       "      <td>165.776428</td>\n",
       "      <td>108256500</td>\n",
       "    </tr>\n",
       "    <tr>\n",
       "      <th>2022-05-05</th>\n",
       "      <td>163.850006</td>\n",
       "      <td>164.080002</td>\n",
       "      <td>154.949997</td>\n",
       "      <td>156.770004</td>\n",
       "      <td>156.540009</td>\n",
       "      <td>130525300</td>\n",
       "    </tr>\n",
       "    <tr>\n",
       "      <th>2022-05-06</th>\n",
       "      <td>156.009995</td>\n",
       "      <td>159.440002</td>\n",
       "      <td>154.179993</td>\n",
       "      <td>157.279999</td>\n",
       "      <td>157.279999</td>\n",
       "      <td>116055700</td>\n",
       "    </tr>\n",
       "    <tr>\n",
       "      <th>2022-05-09</th>\n",
       "      <td>154.929993</td>\n",
       "      <td>155.830002</td>\n",
       "      <td>151.490005</td>\n",
       "      <td>152.059998</td>\n",
       "      <td>152.059998</td>\n",
       "      <td>131577900</td>\n",
       "    </tr>\n",
       "    <tr>\n",
       "      <th>2022-05-10</th>\n",
       "      <td>155.520004</td>\n",
       "      <td>156.740005</td>\n",
       "      <td>152.929993</td>\n",
       "      <td>154.509995</td>\n",
       "      <td>154.509995</td>\n",
       "      <td>115276400</td>\n",
       "    </tr>\n",
       "  </tbody>\n",
       "</table>\n",
       "<p>866 rows × 6 columns</p>\n",
       "</div>"
      ],
      "text/plain": [
       "                  Open        High         Low       Close   Adj Close  \\\n",
       "Date                                                                     \n",
       "2018-11-30   45.072498   45.082500   44.257500   44.645000   43.221710   \n",
       "2018-12-03   46.115002   46.235001   45.302502   46.205002   44.731972   \n",
       "2018-12-04   45.237499   45.597500   44.067501   44.172501   42.764271   \n",
       "2018-12-06   42.939999   43.695000   42.605000   43.680000   42.287464   \n",
       "2018-12-07   43.372501   43.622501   42.075001   42.122501   40.779625   \n",
       "...                ...         ...         ...         ...         ...   \n",
       "2022-05-04  159.669998  166.479996  159.259995  166.020004  165.776428   \n",
       "2022-05-05  163.850006  164.080002  154.949997  156.770004  156.540009   \n",
       "2022-05-06  156.009995  159.440002  154.179993  157.279999  157.279999   \n",
       "2022-05-09  154.929993  155.830002  151.490005  152.059998  152.059998   \n",
       "2022-05-10  155.520004  156.740005  152.929993  154.509995  154.509995   \n",
       "\n",
       "               Volume  \n",
       "Date                   \n",
       "2018-11-30  158126000  \n",
       "2018-12-03  163210000  \n",
       "2018-12-04  165377200  \n",
       "2018-12-06  172393600  \n",
       "2018-12-07  169126400  \n",
       "...               ...  \n",
       "2022-05-04  108256500  \n",
       "2022-05-05  130525300  \n",
       "2022-05-06  116055700  \n",
       "2022-05-09  131577900  \n",
       "2022-05-10  115276400  \n",
       "\n",
       "[866 rows x 6 columns]"
      ]
     },
     "execution_count": 2,
     "metadata": {},
     "output_type": "execute_result"
    }
   ],
   "source": [
    "# 애플 주가 가져오기\n",
    "\n",
    "yf.download('AAPL', start = '2018-12-01')"
   ]
  },
  {
   "cell_type": "code",
   "execution_count": 18,
   "id": "48623b38",
   "metadata": {},
   "outputs": [
    {
     "name": "stdout",
     "output_type": "stream",
     "text": [
      "Requirement already satisfied: pandas-datareader in c:\\users\\user\\lib\\site-packages (0.10.0)\n",
      "Requirement already satisfied: requests>=2.19.0 in c:\\users\\user\\lib\\site-packages (from pandas-datareader) (2.27.1)\n",
      "Requirement already satisfied: lxml in c:\\users\\user\\lib\\site-packages (from pandas-datareader) (4.8.0)\n",
      "Requirement already satisfied: pandas>=0.23 in c:\\users\\user\\lib\\site-packages (from pandas-datareader) (1.4.2)\n",
      "Requirement already satisfied: pytz>=2020.1 in c:\\users\\user\\lib\\site-packages (from pandas>=0.23->pandas-datareader) (2022.1)\n",
      "Requirement already satisfied: python-dateutil>=2.8.1 in c:\\users\\user\\lib\\site-packages (from pandas>=0.23->pandas-datareader) (2.8.2)\n",
      "Requirement already satisfied: numpy>=1.21.0 in c:\\users\\user\\lib\\site-packages (from pandas>=0.23->pandas-datareader) (1.22.3)\n",
      "Requirement already satisfied: urllib3<1.27,>=1.21.1 in c:\\users\\user\\lib\\site-packages (from requests>=2.19.0->pandas-datareader) (1.26.9)\n",
      "Requirement already satisfied: charset-normalizer~=2.0.0 in c:\\users\\user\\lib\\site-packages (from requests>=2.19.0->pandas-datareader) (2.0.12)\n",
      "Requirement already satisfied: idna<4,>=2.5 in c:\\users\\user\\lib\\site-packages (from requests>=2.19.0->pandas-datareader) (3.3)\n",
      "Requirement already satisfied: certifi>=2017.4.17 in c:\\users\\user\\lib\\site-packages (from requests>=2.19.0->pandas-datareader) (2021.10.8)\n",
      "Requirement already satisfied: six>=1.5 in c:\\users\\user\\lib\\site-packages (from python-dateutil>=2.8.1->pandas>=0.23->pandas-datareader) (1.16.0)\n",
      "Note: you may need to restart the kernel to use updated packages.\n"
     ]
    }
   ],
   "source": [
    "pip install pandas-datareader"
   ]
  },
  {
   "cell_type": "code",
   "execution_count": 3,
   "id": "646f428e",
   "metadata": {},
   "outputs": [],
   "source": [
    "import pandas as pd\n",
    "import pandas_datareader as pdr\n",
    "# 1번 방법\n",
    "# DataReader API를 통해서 yahoo finance의 주식 종목 데이터를 가져온다.\n",
    "df = pdr.DataReader('AAPL', 'yahoo')\n",
    "# get_data_yahoo API를 통해서 yahho finance의 주식 종목 데이터를 가져온다.\n",
    "df = pdr.get_data_yahoo('AAPL')"
   ]
  },
  {
   "cell_type": "code",
   "execution_count": null,
   "id": "2c385381",
   "metadata": {},
   "outputs": [],
   "source": []
  }
 ],
 "metadata": {
  "kernelspec": {
   "display_name": "Python 3 (ipykernel)",
   "language": "python",
   "name": "python3"
  },
  "language_info": {
   "codemirror_mode": {
    "name": "ipython",
    "version": 3
   },
   "file_extension": ".py",
   "mimetype": "text/x-python",
   "name": "python",
   "nbconvert_exporter": "python",
   "pygments_lexer": "ipython3",
   "version": "3.10.4"
  }
 },
 "nbformat": 4,
 "nbformat_minor": 5
}

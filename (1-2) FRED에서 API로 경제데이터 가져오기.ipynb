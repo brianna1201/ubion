{
 "cells": [
  {
   "cell_type": "markdown",
   "id": "8720b23a",
   "metadata": {},
   "source": [
    "# (1-2) FRED에서 API로 경제데이터 가져오기"
   ]
  },
  {
   "cell_type": "code",
   "execution_count": 1,
   "id": "7cf450e9",
   "metadata": {},
   "outputs": [
    {
     "name": "stdout",
     "output_type": "stream",
     "text": [
      "Collecting fredapi\n",
      "  Downloading fredapi-0.5.0-py3-none-any.whl (11 kB)\n",
      "Requirement already satisfied: pandas in c:\\users\\user\\lib\\site-packages (from fredapi) (1.4.2)\n",
      "Requirement already satisfied: python-dateutil>=2.8.1 in c:\\users\\user\\lib\\site-packages (from pandas->fredapi) (2.8.2)\n",
      "Requirement already satisfied: pytz>=2020.1 in c:\\users\\user\\lib\\site-packages (from pandas->fredapi) (2022.1)\n",
      "Requirement already satisfied: numpy>=1.21.0 in c:\\users\\user\\lib\\site-packages (from pandas->fredapi) (1.22.3)\n",
      "Requirement already satisfied: six>=1.5 in c:\\users\\user\\lib\\site-packages (from python-dateutil>=2.8.1->pandas->fredapi) (1.16.0)\n",
      "Installing collected packages: fredapi\n",
      "Successfully installed fredapi-0.5.0\n",
      "Note: you may need to restart the kernel to use updated packages.\n"
     ]
    }
   ],
   "source": [
    "pip install fredapi"
   ]
  },
  {
   "cell_type": "code",
   "execution_count": 2,
   "id": "8a9945b9",
   "metadata": {},
   "outputs": [],
   "source": [
    "# API 발급을 위해서 회원가입해야함!"
   ]
  },
  {
   "cell_type": "code",
   "execution_count": 3,
   "id": "a1f2b0a7",
   "metadata": {},
   "outputs": [],
   "source": [
    "from fredapi import Fred\n",
    "fred = Fred(api_key='f82b8a1e8bf587befa43650f57341dc7')\n",
    "data = fred.get_series('GDP')"
   ]
  },
  {
   "cell_type": "code",
   "execution_count": 4,
   "id": "886a542d",
   "metadata": {},
   "outputs": [
    {
     "data": {
      "text/plain": [
       "date\n",
       "2021-01-01    22048.894\n",
       "2021-04-01    22722.581\n",
       "2021-07-01    23173.496\n",
       "2021-10-01    23992.355\n",
       "2022-01-01    24382.683\n",
       "Name: value, dtype: object"
      ]
     },
     "execution_count": 4,
     "metadata": {},
     "output_type": "execute_result"
    }
   ],
   "source": [
    "data = fred.get_series_first_release('GDP')\n",
    "data.tail()"
   ]
  },
  {
   "cell_type": "code",
   "execution_count": 5,
   "id": "d348002d",
   "metadata": {},
   "outputs": [
    {
     "data": {
      "text/plain": [
       "2021-01-01    22038.226\n",
       "2021-04-01    22740.959\n",
       "2021-07-01    23202.344\n",
       "2021-10-01    24002.815\n",
       "2022-01-01    24382.683\n",
       "dtype: float64"
      ]
     },
     "execution_count": 5,
     "metadata": {},
     "output_type": "execute_result"
    }
   ],
   "source": [
    "data = fred.get_series_latest_release('GDP')\n",
    "data.tail()"
   ]
  },
  {
   "cell_type": "code",
   "execution_count": 6,
   "id": "3a8eac51",
   "metadata": {},
   "outputs": [
    {
     "data": {
      "text/html": [
       "<div>\n",
       "<style scoped>\n",
       "    .dataframe tbody tr th:only-of-type {\n",
       "        vertical-align: middle;\n",
       "    }\n",
       "\n",
       "    .dataframe tbody tr th {\n",
       "        vertical-align: top;\n",
       "    }\n",
       "\n",
       "    .dataframe thead th {\n",
       "        text-align: right;\n",
       "    }\n",
       "</style>\n",
       "<table border=\"1\" class=\"dataframe\">\n",
       "  <thead>\n",
       "    <tr style=\"text-align: right;\">\n",
       "      <th></th>\n",
       "      <th>realtime_start</th>\n",
       "      <th>date</th>\n",
       "      <th>value</th>\n",
       "    </tr>\n",
       "  </thead>\n",
       "  <tbody>\n",
       "    <tr>\n",
       "      <th>0</th>\n",
       "      <td>1992-12-22</td>\n",
       "      <td>1946-01-01</td>\n",
       "      <td>199.7</td>\n",
       "    </tr>\n",
       "    <tr>\n",
       "      <th>1</th>\n",
       "      <td>1996-01-19</td>\n",
       "      <td>1946-01-01</td>\n",
       "      <td>NaT</td>\n",
       "    </tr>\n",
       "    <tr>\n",
       "      <th>2</th>\n",
       "      <td>1997-05-07</td>\n",
       "      <td>1946-01-01</td>\n",
       "      <td>210.4</td>\n",
       "    </tr>\n",
       "    <tr>\n",
       "      <th>3</th>\n",
       "      <td>1999-10-28</td>\n",
       "      <td>1946-01-01</td>\n",
       "      <td>NaT</td>\n",
       "    </tr>\n",
       "    <tr>\n",
       "      <th>4</th>\n",
       "      <td>1992-12-22</td>\n",
       "      <td>1946-04-01</td>\n",
       "      <td>207.7</td>\n",
       "    </tr>\n",
       "    <tr>\n",
       "      <th>...</th>\n",
       "      <td>...</td>\n",
       "      <td>...</td>\n",
       "      <td>...</td>\n",
       "    </tr>\n",
       "    <tr>\n",
       "      <th>3011</th>\n",
       "      <td>2018-12-21</td>\n",
       "      <td>2018-07-01</td>\n",
       "      <td>20658.204</td>\n",
       "    </tr>\n",
       "    <tr>\n",
       "      <th>3015</th>\n",
       "      <td>2019-02-28</td>\n",
       "      <td>2018-10-01</td>\n",
       "      <td>20891.367</td>\n",
       "    </tr>\n",
       "    <tr>\n",
       "      <th>3016</th>\n",
       "      <td>2019-03-28</td>\n",
       "      <td>2018-10-01</td>\n",
       "      <td>20865.14</td>\n",
       "    </tr>\n",
       "    <tr>\n",
       "      <th>3020</th>\n",
       "      <td>2019-04-26</td>\n",
       "      <td>2019-01-01</td>\n",
       "      <td>21062.691</td>\n",
       "    </tr>\n",
       "    <tr>\n",
       "      <th>3021</th>\n",
       "      <td>2019-05-30</td>\n",
       "      <td>2019-01-01</td>\n",
       "      <td>21048.839</td>\n",
       "    </tr>\n",
       "  </tbody>\n",
       "</table>\n",
       "<p>2906 rows × 3 columns</p>\n",
       "</div>"
      ],
      "text/plain": [
       "     realtime_start       date      value\n",
       "0        1992-12-22 1946-01-01      199.7\n",
       "1        1996-01-19 1946-01-01        NaT\n",
       "2        1997-05-07 1946-01-01      210.4\n",
       "3        1999-10-28 1946-01-01        NaT\n",
       "4        1992-12-22 1946-04-01      207.7\n",
       "...             ...        ...        ...\n",
       "3011     2018-12-21 2018-07-01  20658.204\n",
       "3015     2019-02-28 2018-10-01  20891.367\n",
       "3016     2019-03-28 2018-10-01   20865.14\n",
       "3020     2019-04-26 2019-01-01  21062.691\n",
       "3021     2019-05-30 2019-01-01  21048.839\n",
       "\n",
       "[2906 rows x 3 columns]"
      ]
     },
     "execution_count": 6,
     "metadata": {},
     "output_type": "execute_result"
    }
   ],
   "source": [
    "fred.get_series_as_of_date('GDP', '6/1/2019')"
   ]
  },
  {
   "cell_type": "code",
   "execution_count": 7,
   "id": "0545cfb1",
   "metadata": {},
   "outputs": [
    {
     "data": {
      "text/html": [
       "<div>\n",
       "<style scoped>\n",
       "    .dataframe tbody tr th:only-of-type {\n",
       "        vertical-align: middle;\n",
       "    }\n",
       "\n",
       "    .dataframe tbody tr th {\n",
       "        vertical-align: top;\n",
       "    }\n",
       "\n",
       "    .dataframe thead th {\n",
       "        text-align: right;\n",
       "    }\n",
       "</style>\n",
       "<table border=\"1\" class=\"dataframe\">\n",
       "  <thead>\n",
       "    <tr style=\"text-align: right;\">\n",
       "      <th></th>\n",
       "      <th>realtime_start</th>\n",
       "      <th>date</th>\n",
       "      <th>value</th>\n",
       "    </tr>\n",
       "  </thead>\n",
       "  <tbody>\n",
       "    <tr>\n",
       "      <th>3067</th>\n",
       "      <td>2021-12-22</td>\n",
       "      <td>2021-07-01</td>\n",
       "      <td>23202.344</td>\n",
       "    </tr>\n",
       "    <tr>\n",
       "      <th>3068</th>\n",
       "      <td>2022-01-27</td>\n",
       "      <td>2021-10-01</td>\n",
       "      <td>23992.355</td>\n",
       "    </tr>\n",
       "    <tr>\n",
       "      <th>3069</th>\n",
       "      <td>2022-02-24</td>\n",
       "      <td>2021-10-01</td>\n",
       "      <td>24008.472</td>\n",
       "    </tr>\n",
       "    <tr>\n",
       "      <th>3070</th>\n",
       "      <td>2022-03-30</td>\n",
       "      <td>2021-10-01</td>\n",
       "      <td>24002.815</td>\n",
       "    </tr>\n",
       "    <tr>\n",
       "      <th>3071</th>\n",
       "      <td>2022-04-28</td>\n",
       "      <td>2022-01-01</td>\n",
       "      <td>24382.683</td>\n",
       "    </tr>\n",
       "  </tbody>\n",
       "</table>\n",
       "</div>"
      ],
      "text/plain": [
       "     realtime_start       date      value\n",
       "3067     2021-12-22 2021-07-01  23202.344\n",
       "3068     2022-01-27 2021-10-01  23992.355\n",
       "3069     2022-02-24 2021-10-01  24008.472\n",
       "3070     2022-03-30 2021-10-01  24002.815\n",
       "3071     2022-04-28 2022-01-01  24382.683"
      ]
     },
     "execution_count": 7,
     "metadata": {},
     "output_type": "execute_result"
    }
   ],
   "source": [
    "df = fred.get_series_all_releases('GDP')\n",
    "df.tail()"
   ]
  },
  {
   "cell_type": "code",
   "execution_count": 8,
   "id": "9be4e8e1",
   "metadata": {},
   "outputs": [],
   "source": [
    "from fredapi import Fred\n",
    "fred = Fred(api_key='f82b8a1e8bf587befa43650f57341dc7')\n",
    "data = fred.get_series('DGS10') # 미 국채 10년물 금리"
   ]
  },
  {
   "cell_type": "code",
   "execution_count": 9,
   "id": "90f10276",
   "metadata": {},
   "outputs": [
    {
     "data": {
      "text/plain": [
       "date\n",
       "2022-05-03    2.97\n",
       "2022-05-04    2.93\n",
       "2022-05-05    3.05\n",
       "2022-05-06    3.12\n",
       "2022-05-09    3.05\n",
       "Name: value, dtype: object"
      ]
     },
     "execution_count": 9,
     "metadata": {},
     "output_type": "execute_result"
    }
   ],
   "source": [
    "data = fred.get_series_first_release('DGS10')\n",
    "data.tail()"
   ]
  },
  {
   "cell_type": "code",
   "execution_count": null,
   "id": "dcc7ee2e",
   "metadata": {},
   "outputs": [],
   "source": []
  }
 ],
 "metadata": {
  "kernelspec": {
   "display_name": "Python 3 (ipykernel)",
   "language": "python",
   "name": "python3"
  },
  "language_info": {
   "codemirror_mode": {
    "name": "ipython",
    "version": 3
   },
   "file_extension": ".py",
   "mimetype": "text/x-python",
   "name": "python",
   "nbconvert_exporter": "python",
   "pygments_lexer": "ipython3",
   "version": "3.10.4"
  }
 },
 "nbformat": 4,
 "nbformat_minor": 5
}
